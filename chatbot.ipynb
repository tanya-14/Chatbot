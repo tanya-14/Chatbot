{
  "nbformat": 4,
  "nbformat_minor": 0,
  "metadata": {
    "colab": {
      "provenance": [],
      "include_colab_link": true
    },
    "kernelspec": {
      "name": "python3",
      "display_name": "Python 3"
    },
    "language_info": {
      "name": "python"
    }
  },
  "cells": [
    {
      "cell_type": "markdown",
      "metadata": {
        "id": "view-in-github",
        "colab_type": "text"
      },
      "source": [
        "<a href=\"https://colab.research.google.com/github/tanya-14/Chatbot/blob/main/chatbot.ipynb\" target=\"_parent\"><img src=\"https://colab.research.google.com/assets/colab-badge.svg\" alt=\"Open In Colab\"/></a>"
      ]
    },
    {
      "cell_type": "code",
      "execution_count": 1,
      "metadata": {
        "id": "f7IGYIPToUid"
      },
      "outputs": [],
      "source": [
        "import re\n",
        "import random"
      ]
    },
    {
      "cell_type": "code",
      "source": [
        "class RuleBot:\n",
        "    ### potential negative responses\n",
        "    negative_responses = (\"по\", \"поре\", \"nah\", \"naw\", \"not a chance\", \"sorry\")\n",
        "    ### keywords for exiting the conversation\n",
        "    exit_commands = (\"quit\", \"pause\", \"exit\", \"goodbye\", \"bye\", \"later\")\n",
        "    ### random starter questions\n",
        "    random_questions = (\n",
        "        \"How are you?\",\n",
        "        \"Are you there buddy? \",\n",
        "        \"What do you do in your leisure time ? \",\n",
        "        \"Are you happy with your decisions\",\n",
        "        \"who is your role model? \",\n",
        "        \"What are your hobbies? \",\n",
        "        \"What technology do you have in your country? \"\n",
        "    )\n",
        "\n",
        "    def __init__(self):\n",
        "        self.mybabble = {\n",
        "            'describe_lifestyle_intent': r'.*\\s*your lifestyle.*',\n",
        "            'answer_why_intent': r'why\\sare.*',\n",
        "            'about_life': r'.*\\s*life'\n",
        "        }\n",
        "\n",
        "    def greet(self):\n",
        "        self.name = input(\"What is your name?\\n\")\n",
        "        will_help = input(f\"Hi {self.name}, I am Rule-Bot. Will you help me learn about yourself?\\n\")\n",
        "        if will_help in self.negative_responses:\n",
        "            print(\"Ok, have a nice day!\")\n",
        "            return\n",
        "        self.chat()\n",
        "    def make_exit(self, reply):\n",
        "        for command in self.exit_commands:\n",
        "            if reply == command:\n",
        "                print(\"okay, have a nice day!\")\n",
        "                return True\n",
        "        return False\n",
        "\n",
        "    def chat(self):\n",
        "        reply = input(random.choice(self.random_questions)).lower()\n",
        "        while not self.make_exit(reply):\n",
        "            reply = input(self.match_reply(reply))\n",
        "\n",
        "    def match_reply(self, reply):\n",
        "        for key, value in self.mybabble.items():\n",
        "            intent = key\n",
        "            regex_pattern = value\n",
        "            found_match = re.match(regex_pattern, reply)\n",
        "            if found_match and intent == 'describe_lifestyle_intent':\n",
        "                return self.describe_lifestyle_intent()\n",
        "            elif found_match and intent == 'answer_why_intent':\n",
        "                return self.answer_why_intent()\n",
        "            elif found_match and intent == 'about_life':\n",
        "                return self.about_life()\n",
        "        if not found_match:\n",
        "            return self.no_match_intent()\n",
        "\n",
        "    def describe_lifestyle_intent(self):\n",
        "        responses = (\"My Lifestyle is very simple.So there is nothing intresting to tell.\\n\",\n",
        "                     \"I think i am an ambivert person.That's all i know about myself.\\n\")\n",
        "        return random.choice(responses)\n",
        "\n",
        "    def answer_why_intent(self):\n",
        "        responses = (\"I come in peace\\n\", \"I am here to collect data on your lifestyle and about yourself\\n\",\n",
        "                     \"I heard the coffee is good\\n\")\n",
        "        return random.choice(responses)\n",
        "\n",
        "    def about_life(self):\n",
        "        responses = (\"Life is a journey of self-discovery and personal growth\\n\",\n",
        "                     \"Life is a means to achieve success or fulfill certain societal expectations\\n\")\n",
        "        return random.choice(responses)\n",
        "\n",
        "    def no_match_intent(self):\n",
        "        responses = (\n",
        "            \"Please tell me more.\\n\", \"Tell me more\\n\", \"Why do you say that?\\n\", \"I see, can you elaborate?\\n\",\n",
        "            \"Interesting. Can you tell me more?\\n\", \"I see. How do you think?\\n\", \"Why?\\n\",\n",
        "            \"How do you think I feel when you say that?\\n\")\n",
        "        return random.choice(responses)\n",
        "\n",
        "mybot = RuleBot()\n",
        "mybot.greet()"
      ],
      "metadata": {
        "colab": {
          "base_uri": "https://localhost:8080/"
        },
        "id": "cp2q8KENohpa",
        "outputId": "23dd3aec-2242-42e5-ca6e-debd948ca67f"
      },
      "execution_count": null,
      "outputs": [
        {
          "name": "stdout",
          "output_type": "stream",
          "text": [
            "What is your name?\n",
            "Tanya singh\n",
            "Hi Tanya singh, I am Rule-Bot. Will you help me learn about yourself?\n",
            "im not good today\n",
            "Are you there buddy? yes\n",
            "I see, can you elaborate?\n",
            "im an ambivert \n"
          ]
        }
      ]
    }
  ]
}